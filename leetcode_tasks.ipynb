{
 "cells": [
  {
   "attachments": {},
   "cell_type": "markdown",
   "metadata": {},
   "source": [
    "### Задачи на Leetcode\n"
   ]
  },
  {
   "attachments": {},
   "cell_type": "markdown",
   "metadata": {},
   "source": [
    "### 1\n",
    "https://leetcode.com/problems/two-sum/\n",
    "\n",
    "Учитывая массив целых чисел nums и целое число target, верните индексы двух чисел так, чтобы они составляли в суммеtarget .\n",
    "\n",
    "Вы можете предположить, что каждый вход будет иметь ровно одно решение , и вы не можете использовать один и тот же элемент дважды.\n",
    "\n",
    "Вы можете вернуть ответ в любом порядке.\n",
    "\n",
    " \n",
    "\n",
    "Пример 1:\n",
    "\n",
    "Ввод: nums = [2,7,11,15], target = 9\n",
    " Вывод: [0,1]\n",
    " Объяснение: Поскольку nums[0] + nums[1] == 9, мы возвращаем [0, 1]."
   ]
  },
  {
   "cell_type": "code",
   "execution_count": 16,
   "metadata": {},
   "outputs": [],
   "source": [
    "def twoSum(nums, target):\n",
    "    for i in range(len(nums)-1):\n",
    "            for j in range(i+1,len(nums)):\n",
    "                if nums[i] + nums[j] == target:\n",
    "                    return [i,j]\n"
   ]
  },
  {
   "cell_type": "code",
   "execution_count": 17,
   "metadata": {},
   "outputs": [
    {
     "data": {
      "text/plain": [
       "[0, 1]"
      ]
     },
     "execution_count": 17,
     "metadata": {},
     "output_type": "execute_result"
    }
   ],
   "source": [
    "twoSum(nums = [2,7,11,15], target = 9)"
   ]
  },
  {
   "cell_type": "code",
   "execution_count": 18,
   "metadata": {},
   "outputs": [
    {
     "data": {
      "text/plain": [
       "[1, 2]"
      ]
     },
     "execution_count": 18,
     "metadata": {},
     "output_type": "execute_result"
    }
   ],
   "source": [
    "twoSum(nums=[3,2,4], target = 6)"
   ]
  },
  {
   "attachments": {},
   "cell_type": "markdown",
   "metadata": {},
   "source": [
    "### 2\n",
    "https://leetcode.com/problems/divide-two-integers/\n",
    "\n",
    "Даны два целых числа dividendи divisor, разделите два целых числа без использования умножения, деления и оператора mod.\n",
    "\n",
    "Целочисленное деление должно усекаться до нуля, что означает потерю дробной части. Например, 8.345будет усечено до 8, и -2.7335будет усечено до -2.\n",
    "\n",
    "Верните частное после деления dividendна .divisor\n",
    "\n",
    "Примечание. Предположим, что мы имеем дело со средой, которая может хранить целые числа только в диапазоне 32-битных целых чисел со знаком: - 2**31: в этом случае вернуть (2**31 - 1)"
   ]
  },
  {
   "cell_type": "code",
   "execution_count": 2,
   "metadata": {},
   "outputs": [],
   "source": [
    "def divide(self, dividend, divisor):\n",
    "\n",
    "    sign = (1,-1)[(dividend< 0 and divisor>0) or (dividend>0 and divisor<0)]\n",
    "    result = abs(dividend)//abs(divisor) * sign\n",
    "    return (result, result-1)[result==2**31]"
   ]
  },
  {
   "attachments": {},
   "cell_type": "markdown",
   "metadata": {},
   "source": [
    "### 3\n",
    "https://leetcode.com/problems/median-of-two-sorted-arrays/description/\n",
    "\n",
    "Given two sorted arrays nums1 and nums2 of size m and n respectively, return the median of the two sorted arrays.\n",
    "\n",
    "The overall run time complexity should be O(log (m+n)).\n",
    "\n"
   ]
  },
  {
   "cell_type": "code",
   "execution_count": 3,
   "metadata": {},
   "outputs": [],
   "source": [
    "def findMedianSortedArrays(self, nums1, nums2):\n",
    "        import numpy as np\n",
    "        return np.median(sorted(nums1+nums2))"
   ]
  },
  {
   "attachments": {},
   "cell_type": "markdown",
   "metadata": {},
   "source": [
    "### 4\n",
    "https://leetcode.com/problems/reverse-integer/submissions/926493423/\n",
    "\n",
    "Given a signed 32-bit integer x, return x with its digits reversed. If reversing x causes the value to go outside the signed 32-bit integer range [-231, 231 - 1], then return 0.\n",
    "\n",
    "Assume the environment does not allow you to store 64-bit integers (signed or unsigned).\n"
   ]
  },
  {
   "cell_type": "code",
   "execution_count": 4,
   "metadata": {},
   "outputs": [],
   "source": [
    "def reverse(self, x):\n",
    "        sign = (1,-1)[x<0]\n",
    "        res = int(str(abs(x))[::-1]) * sign\n",
    "        return (0, res) [-2**31<=res <= 2**31-1]"
   ]
  },
  {
   "attachments": {},
   "cell_type": "markdown",
   "metadata": {},
   "source": [
    "### 5\n",
    "https://leetcode.com/problems/add-two-numbers/\n",
    "\n",
    "You are given two non-empty linked lists representing two non-negative integers. The digits are stored in reverse order, and each of their nodes contains a single digit. Add the two numbers and return the sum as a linked list.\n",
    "\n",
    "You may assume the two numbers do not contain any leading zero, except the number 0 itself."
   ]
  },
  {
   "cell_type": "code",
   "execution_count": null,
   "metadata": {},
   "outputs": [],
   "source": [
    "# неверное решение\n",
    "def addTwoNumbers(self, l1, l2):\n",
    "        l1 = [str(i) for i in l1]\n",
    "        l2 = [str(i) for i in l2]\n",
    "        res = int(''.join(l1)) + int(''.join(l2))\n",
    "        result = [int(i) for i in list(str(res))[::-1]]\n",
    "        return result"
   ]
  },
  {
   "cell_type": "code",
   "execution_count": 14,
   "metadata": {},
   "outputs": [
    {
     "data": {
      "text/plain": [
       "[8, 9, 9, 9, 0, 0, 0, 1]"
      ]
     },
     "execution_count": 14,
     "metadata": {},
     "output_type": "execute_result"
    }
   ],
   "source": [
    "def addTwoNumbers(l1, l2):\n",
    "    l1 = map(str, l1)\n",
    "    l2 = map(str, l2)\n",
    "    res = int(''.join(l1)) + int(''.join(l2))\n",
    "    result = [int(i) for i in list(str(res))[::-1]]\n",
    "    return result\n",
    "\n",
    "l1 = [9,9,9,9,9,9,9]\n",
    "l2 = [9,9,9,9]\n",
    "\n",
    "addTwoNumbers(l1,l2)"
   ]
  },
  {
   "cell_type": "code",
   "execution_count": 12,
   "metadata": {},
   "outputs": [],
   "source": [
    "def reduce_tuples(lst):\n",
    "    container= []\n",
    "    first_elem = 0\n",
    "    for tup in lst:\n",
    "        elem = sum(tup) + first_elem\n",
    "        if elem >9: \n",
    "            first_elem = 1\n",
    "            next_elem = elem%10\n",
    "        else: \n",
    "            first_elem = 0\n",
    "            next_elem = elem%10\n",
    "        container.append(next_elem)\n",
    "    if elem>9: container.append(1)\n",
    "    \n",
    "    return container"
   ]
  },
  {
   "cell_type": "code",
   "execution_count": 13,
   "metadata": {},
   "outputs": [
    {
     "name": "stdout",
     "output_type": "stream",
     "text": [
      "[(9, 9), (9, 9), (9, 9), (9, 9), (9, 0), (9, 0), (9, 0)]\n",
      "[8, 9, 9, 9, 0, 0, 0, 1]\n"
     ]
    }
   ],
   "source": [
    "from itertools import zip_longest\n",
    "smth = list(zip_longest(l1,l2, fillvalue=0))\n",
    "print(smth)\n",
    "print(reduce_tuples(smth))\n",
    "\n"
   ]
  },
  {
   "cell_type": "code",
   "execution_count": 29,
   "metadata": {},
   "outputs": [
    {
     "data": {
      "text/plain": [
       "[8, 9, 9, 9, 0, 0, 0, 1]"
      ]
     },
     "execution_count": 29,
     "metadata": {},
     "output_type": "execute_result"
    }
   ],
   "source": [
    "l1 =[2,4,3]\n",
    "l2 =[5,6,4, 2, 9]\n",
    "\n",
    "l1 = [9,9,9,9,9,9,9]\n",
    "l2 = [9,9,9,9]\n",
    "\n",
    "\n",
    "cont = []\n",
    "start = 0\n",
    "\n",
    "lenth1, lenth2  = len(l1), len(l2)\n",
    "\n",
    "len_diff = abs(lenth1 - lenth2)\n",
    "\n",
    "if lenth1< lenth2: l1+= [0]*len_diff\n",
    "else: l2 += [0]* len_diff\n",
    "\n",
    "\n",
    "for i in range(len(l1)):\n",
    "    elem = l1[i] + l2[i] + start\n",
    "    if elem > 9: start = 1\n",
    "    else: start = 0\n",
    "    dig = elem%10\n",
    "    cont.append(dig)\n",
    "\n",
    "if elem>9: cont.append(1)\n",
    "\n",
    "cont\n"
   ]
  },
  {
   "cell_type": "code",
   "execution_count": null,
   "metadata": {},
   "outputs": [],
   "source": [
    "\n",
    "class Solution(object):\n",
    "    def addTwoNumbers(l1, l2):\n",
    "        cont = []\n",
    "        start = 0\n",
    "\n",
    "        lenth1, lenth2  = len(l1), len(l2)\n",
    "\n",
    "        len_diff = abs(lenth1 - lenth2)\n",
    "\n",
    "        if lenth1< lenth2: l1+= [0]*len_diff\n",
    "        else: l2 += [0]* len_diff\n",
    "\n",
    "\n",
    "        for i in range(len(l1)):\n",
    "            elem = l1[i] + l2[i] + start\n",
    "            if elem > 9: start = 1\n",
    "            else: start = 0\n",
    "            dig = elem%10\n",
    "            cont.append(dig)\n",
    "\n",
    "        if elem>9: cont.append(1)\n",
    "        return cont"
   ]
  },
  {
   "cell_type": "markdown",
   "metadata": {},
   "source": [
    "### 6\n",
    "https://leetcode.com/problems/majority-element/"
   ]
  },
  {
   "cell_type": "code",
   "execution_count": 3,
   "metadata": {},
   "outputs": [
    {
     "name": "stdout",
     "output_type": "stream",
     "text": [
      "3\n"
     ]
    }
   ],
   "source": [
    "\n",
    "def majorityElement(nums):\n",
    "    from collections import Counter\n",
    "    count_dic = Counter(nums)\n",
    "    return max(count_dic.items(), key=lambda x: x[1])[0]\n",
    "\n",
    "print(majorityElement([8,8,1,1,1,2,2,3,3,3,3,3,4]))"
   ]
  },
  {
   "cell_type": "markdown",
   "metadata": {},
   "source": [
    "### 7\n",
    "https://leetcode.com/problems/merge-sorted-array/"
   ]
  },
  {
   "cell_type": "code",
   "execution_count": 11,
   "metadata": {},
   "outputs": [
    {
     "name": "stdout",
     "output_type": "stream",
     "text": [
      "[1, 2, 2, 3, 5, 6]\n"
     ]
    }
   ],
   "source": [
    "def merge(nums1, m, nums2, n):  # len(nums1) = m+n, len(nums2) = n\n",
    "    for i in range(n):\n",
    "        nums1.remove(0)\n",
    "    nums1.extend(nums2)\n",
    "    nums1.sort()\n",
    "\n",
    "nums1 = [1,2,3,0,0,0]\n",
    "nums2 = [2,5,6]\n",
    "n=3\n",
    "m=6\n",
    "\n",
    "merge(nums1, m, nums2, n)\n",
    "print(nums1)"
   ]
  },
  {
   "cell_type": "markdown",
   "metadata": {},
   "source": [
    "### 8"
   ]
  },
  {
   "cell_type": "code",
   "execution_count": 7,
   "metadata": {},
   "outputs": [
    {
     "name": "stdout",
     "output_type": "stream",
     "text": [
      "[1, 2, 3, 4, '_', '_']\n",
      "4\n"
     ]
    }
   ],
   "source": [
    "def removeDuplicates(nums):\n",
    "    k =0\n",
    "    container = []\n",
    "    for i in range (len(nums)):\n",
    "        if nums[i] not in container:\n",
    "            container.append(nums[i])\n",
    "            k+=1\n",
    "        else:\n",
    "            nums[i] = '_'\n",
    "    return k\n",
    "\n",
    "nums= lst = [1,2,3,4,1,3]\n",
    "k= removeDuplicates(nums)\n",
    "\n",
    "print(nums)\n",
    "print(k)"
   ]
  },
  {
   "cell_type": "code",
   "execution_count": 13,
   "metadata": {},
   "outputs": [
    {
     "name": "stdout",
     "output_type": "stream",
     "text": [
      "[1, 2, 3, 4]\n",
      "4\n"
     ]
    }
   ],
   "source": [
    "def removeDuplicates(nums):\n",
    "    k =0\n",
    "    container = []\n",
    "    for num in nums[:]:\n",
    "        if num not in container:\n",
    "            container.append(num)\n",
    "        else:\n",
    "            nums.remove(num)\n",
    "    nums.sort()\n",
    "    return len(nums)\n",
    "\n",
    "nums= lst = [1,2,3,4,1,3]\n",
    "k= removeDuplicates(nums)\n",
    "\n",
    "print(nums)\n",
    "print(k)"
   ]
  },
  {
   "cell_type": "code",
   "execution_count": 5,
   "metadata": {},
   "outputs": [
    {
     "data": {
      "text/plain": [
       "[1, 2, 3, 4, 3]"
      ]
     },
     "execution_count": 5,
     "metadata": {},
     "output_type": "execute_result"
    }
   ],
   "source": [
    "lst = [1,2,3,4,1,3]\n",
    "\n",
    "#lst.remove(1)\n",
    "del lst[4]\n",
    "lst"
   ]
  },
  {
   "cell_type": "markdown",
   "metadata": {},
   "source": [
    "### 9\n",
    "https://leetcode.com/problems/longest-common-prefix/submissions/"
   ]
  },
  {
   "cell_type": "code",
   "execution_count": 45,
   "metadata": {},
   "outputs": [
    {
     "data": {
      "text/plain": [
       "'fl'"
      ]
     },
     "execution_count": 45,
     "metadata": {},
     "output_type": "execute_result"
    }
   ],
   "source": [
    "def longestCommonPrefix(strs):\n",
    "    min_len = min(map(len, strs))\n",
    "    if not min_len:     # проверяем, что в списке нет пустых строк\n",
    "        return ''\n",
    "    else:\n",
    "        ind =0\n",
    "        for i in range(min_len):\n",
    "            let_current_pos = map(lambda x: x[i], strs)     # здесь назначаем положение буквы 1,2,3... до последней в самом коротком слове\n",
    "            if all(letter == strs[0][i] for letter in let_current_pos):\n",
    "                # проверка, что текущая буква каждого слова одинакова\n",
    "                ind+=1\n",
    "                continue\n",
    "            else:\n",
    "                return strs[0][:i]\n",
    "        return strs[0][:ind]\n",
    "\n",
    "            \n",
    "    \n",
    "\n",
    "strs = [\"flower\",\"flow\",\"flight\"]\n",
    "#strs = [\"dog\",\"racecar\",\"car\"]\n",
    "#strs = [\"flower\",\"flower\",\"flower\",\"flower\"]\n",
    "\n",
    "longestCommonPrefix(strs)"
   ]
  },
  {
   "cell_type": "markdown",
   "metadata": {},
   "source": [
    "### 10\n",
    "https://leetcode.com/problems/search-in-rotated-sorted-array/"
   ]
  },
  {
   "cell_type": "code",
   "execution_count": 49,
   "metadata": {},
   "outputs": [
    {
     "data": {
      "text/plain": [
       "-1"
      ]
     },
     "execution_count": 49,
     "metadata": {},
     "output_type": "execute_result"
    }
   ],
   "source": [
    "def search(nums, target):\n",
    "    try: \n",
    "        res = nums.index(target)\n",
    "    except ValueError:\n",
    "        res =-1\n",
    "    return res\n",
    "\n",
    "nums = [4,5,6,7,0,1,2]\n",
    "target = 3\n",
    "\n",
    "search(nums, target)"
   ]
  },
  {
   "attachments": {
    "image.png": {
     "image/png": "[encoded data removed]"
    }
   },
   "cell_type": "markdown",
   "metadata": {},
   "source": [
    "![image.png](attachment:image.png)"
   ]
  },
  {
   "cell_type": "markdown",
   "metadata": {},
   "source": [
    "### 11\n",
    "https://leetcode.com/problems/word-break/"
   ]
  },
  {
   "cell_type": "code",
   "execution_count": 100,
   "metadata": {},
   "outputs": [
    {
     "name": "stdout",
     "output_type": "stream",
     "text": [
      "abababab\n",
      "\n"
     ]
    },
    {
     "data": {
      "text/plain": [
       "True"
      ]
     },
     "execution_count": 100,
     "metadata": {},
     "output_type": "execute_result"
    }
   ],
   "source": [
    "# это недоработанное решение, ошибка на тестах с одинаковыми подряд буквами в словах и в строке\n",
    "\n",
    "def wordBreak(s, wordDict):\n",
    "    import re\n",
    "    for word in sorted(wordDict, key=len):           # для каждого слова в словаре\n",
    "        rex = fr\"{word}\"\n",
    "        s= re.sub(rex, '', s)       # меняем все совпадения на пустую строку(удаляем все совпадения)\n",
    "        print(s)\n",
    "        if len(s)==0:\n",
    "            return True\n",
    "        else:\n",
    "            continue\n",
    "    return len(s)==0                # если удалилось все - значит из набора слов можно составить заданную строку\n",
    "                                    # но если осталось хоть что-то - значит составить заданную строку нельзя\n",
    "\n",
    "#1 test - True\n",
    "s = \"applepenapple\" \n",
    "wordDict = [\"apple\",\"pen\"]\n",
    "\n",
    "\n",
    "#2 test - False\n",
    "s = \"catsandog\"\n",
    "wordDict = [\"cats\",\"dog\",\"sand\",\"and\",\"cat\"]\n",
    "\n",
    "#3 test - True\n",
    "s =\"aaaaaaa\"\n",
    "wordDict =[\"aaaa\",\"aaa\"]    \n",
    "\n",
    "#4 test True\n",
    "s= 'cars'\n",
    "wordDict =[\"car\",\"ca\",\"rs\"]\n",
    "\n",
    "s= 'aaaaababababaaaa'\n",
    "wordDict =[\"aaa\",\"aa\",\"ab\"]\n",
    "\n",
    "wordBreak(s, wordDict)"
   ]
  },
  {
   "cell_type": "markdown",
   "metadata": {},
   "source": [
    "В этом коде dp[i] представляет собой булевое значение, указывающее, может ли подстрока s[0:i] быть разбита на слова из словаря wordDict. Внешний цикл проходит по символам строки, а внутренний цикл проходит по словам в словаре. Если слово из словаря соответствует подстроке и предыдущая часть строки тоже может быть разбита на слова, то dp[i] устанавливается в True.\n",
    "\n",
    "В конце dp[n] будет содержать информацию о том, можно ли разбить всю строку s на слова из словаря.\n",
    "\n"
   ]
  },
  {
   "cell_type": "code",
   "execution_count": 107,
   "metadata": {},
   "outputs": [
    {
     "name": "stdout",
     "output_type": "stream",
     "text": [
      "True\n"
     ]
    }
   ],
   "source": [
    "# рабочее решение\n",
    "\n",
    "def wordBreak(s, wordDict):\n",
    "    n = len(s)\n",
    "    dp = [False] * (n + 1)\n",
    "    dp[0] = True\n",
    "\n",
    "    # условие для случая, когда строка меньше, чем любой из элементов в списке\n",
    "    if n < min(map(len,wordDict)):\n",
    "            return False\n",
    "\n",
    "    for i in range(1, n + 1):\n",
    "        for word in wordDict:\n",
    "            if dp[i - len(word)] and s[i - len(word):i] == word:\n",
    "                dp[i] = True\n",
    "                break\n",
    "\n",
    "    return dp[n]\n",
    "\n",
    "# Example usage\n",
    "s = \"leetcode\"\n",
    "wordDict = [\"leet\", \"code\"]\n",
    "\n",
    "#1 test - True\n",
    "s = \"applepenapple\" \n",
    "wordDict = [\"apple\",\"pen\"]\n",
    "\n",
    "#2 test - False\n",
    "s = \"catsandog\"\n",
    "wordDict = [\"cats\",\"dog\",\"sand\",\"and\",\"cat\"]\n",
    "\n",
    "#3 test - True\n",
    "s =\"aaaaaaa\"\n",
    "wordDict =[\"aaaa\",\"aaa\"]    \n",
    "\n",
    "\n",
    "#4 test True\n",
    "s= 'cars'\n",
    "wordDict =[\"car\",\"ca\",\"rs\"]\n",
    "\n",
    "\n",
    "\n",
    "s= 'aaaababababaaa'\n",
    "wordDict =[\"aaa\",\"aa\",\"ab\"]\n",
    "\n",
    "\n",
    "\n",
    "\n",
    "print(wordBreak(s, wordDict))"
   ]
  },
  {
   "attachments": {
    "image.png": {
     "image/png": "[encoded data removed]"
    }
   },
   "cell_type": "markdown",
   "metadata": {},
   "source": [
    "![image.png](attachment:image.png)"
   ]
  },
  {
   "cell_type": "markdown",
   "metadata": {},
   "source": [
    "### 12\n",
    "https://leetcode.com/problems/asteroid-collision/\n",
    "\n",
    "\"+\" летит вправо, \"-\" летит влево\n",
    "\n",
    "важно оценивать массив парами - проверять одну за другой на предмет того, что слева будет стоять положительное, справа - отрицательное.\n",
    "\n",
    "И делать это до тех пор, пока таких пар во всем массиве найдено не будет.\n",
    "\n",
    "Значит \"нулевая позиция\" для рекурсии - это список, который не содержит ни одной пары вида (+-)"
   ]
  },
  {
   "cell_type": "code",
   "execution_count": null,
   "metadata": {},
   "outputs": [],
   "source": [
    "#1 test\n",
    "asteroids = [5,10,-5]   #[5,10]\n",
    "\n",
    "#2 test\n",
    "asteroids = [8,-8]      #[]\n",
    "\n",
    "#3 test\n",
    "asteroids = [10,2,-5]   #[10]\n",
    "\n",
    "#4 test\n",
    "asteroids = [15,20,-4,-3,-12,44,21]         #[15,20,44,21]\n",
    "\n",
    "#5 test\n",
    "asteroids = [-1,-5,12,-130,144,18,29,-45]   #[-1,-5,-130,144]\n"
   ]
  },
  {
   "cell_type": "code",
   "execution_count": null,
   "metadata": {},
   "outputs": [],
   "source": [
    "def asteroidCollision(asteroids):\n",
    "    max_neg = min(asteroids)\n",
    "    mnind = asteroids.index(max_neg)    # находим место самого большого астероида, летящего влево\n",
    "    max_pos = max(asteroids)\n",
    "    mpind = asteroids.index(max_pos)    # находим место самого большого астероида, летящего вправо"
   ]
  },
  {
   "cell_type": "code",
   "execution_count": 7,
   "metadata": {},
   "outputs": [
    {
     "name": "stdout",
     "output_type": "stream",
     "text": [
      "[(1, 0), (0, 0), (0, 1), (1, 0), (0, 0), (0, 1), (1, 1), (1, 1), (1, 0), (0, 0), (0, 1), (1, 0)]\n"
     ]
    }
   ],
   "source": [
    "input_list = [1, 0, 0, 1, 0, 0, 1, 1, 1, 0, 0, 1, 0]\n",
    "\n",
    "# Генерируем новый список с попарными кортежами\n",
    "output_list = [(input_list[i], input_list[i + 1]) for i in range(0, len(input_list) - 1)]\n",
    "\n",
    "print(output_list)\n"
   ]
  },
  {
   "cell_type": "code",
   "execution_count": 12,
   "metadata": {},
   "outputs": [],
   "source": [
    "# функция проверки пар астероидов - если справа стоит положительное, а слева отрицательное - значит они друг друга не тронут\n",
    "def check_tup(tup):\n",
    "    if tup[1]>0 and tup[0]<=0:\n",
    "        return True\n",
    "    else: return False"
   ]
  },
  {
   "cell_type": "code",
   "execution_count": 13,
   "metadata": {},
   "outputs": [
    {
     "data": {
      "text/plain": [
       "[False,\n",
       " False,\n",
       " True,\n",
       " False,\n",
       " False,\n",
       " True,\n",
       " False,\n",
       " False,\n",
       " False,\n",
       " False,\n",
       " True,\n",
       " False]"
      ]
     },
     "execution_count": 13,
     "metadata": {},
     "output_type": "execute_result"
    }
   ],
   "source": [
    "list(map(check_tup, output_list))"
   ]
  },
  {
   "cell_type": "code",
   "execution_count": 14,
   "metadata": {},
   "outputs": [],
   "source": [
    "# функция проверки списка, что его пары содержат только не пересекающиеся астероиды\n",
    "def check_list(lst):\n",
    "    lst_with_tuples = ((lst[i], lst[i+1]) for i in range(len(lst)-1))\n",
    "    # вспомогательная функция проверки кортежей\n",
    "    def check_tup(tup):\n",
    "        return (tup[1]>0 and tup[0]<0) or (tup[1]>0 and tup[0]>0) or ((tup[1]<0 and tup[0]<0) )\n",
    "    return all(map(check_tup, lst_with_tuples))"
   ]
  },
  {
   "cell_type": "code",
   "execution_count": 18,
   "metadata": {},
   "outputs": [
    {
     "name": "stdout",
     "output_type": "stream",
     "text": [
      "False\n",
      "False\n",
      "False\n",
      "False\n",
      "False\n"
     ]
    }
   ],
   "source": [
    "#1 test\n",
    "asteroids = [5,10,-5]   #[5,10]\n",
    "print(check_list(asteroids))\n",
    "\n",
    "#2 test\n",
    "asteroids = [8,-8]      #[]\n",
    "print(check_list(asteroids))\n",
    "\n",
    "#3 test\n",
    "asteroids = [10,2,-5]   #[10]\n",
    "print(check_list(asteroids))\n",
    "\n",
    "#4 test\n",
    "asteroids = [15,20,-4,-3,-12,44,21]         #[15,20,44,21]\n",
    "print(check_list(asteroids))\n",
    "\n",
    "#5 test\n",
    "asteroids = [-1,-5,12,-130,144,18,29,-45]   #[-1,-5,-130,144]\n",
    "print(check_list(asteroids))"
   ]
  },
  {
   "cell_type": "code",
   "execution_count": 23,
   "metadata": {},
   "outputs": [
    {
     "name": "stdout",
     "output_type": "stream",
     "text": [
      "(-1, -5) (-5, 12) (12, -130) (-130, 144) (144, 18) (18, 29) (29, -45) (-45, 51)\n"
     ]
    }
   ],
   "source": [
    "lst = [-1,-5,12,-130,144,18,29,-45,51]\n",
    "lst_with_pairs = ((lst[i], lst[i+1]) for i in range(len(lst)-1))\n",
    "print(*lst_with_pairs)"
   ]
  },
  {
   "cell_type": "code",
   "execution_count": 25,
   "metadata": {},
   "outputs": [
    {
     "ename": "TypeError",
     "evalue": "'>=' not supported between instances of 'NoneType' and 'int'",
     "output_type": "error",
     "traceback": [
      "\u001b[0;31m---------------------------------------------------------------------------\u001b[0m",
      "\u001b[0;31mTypeError\u001b[0m                                 Traceback (most recent call last)",
      "Cell \u001b[0;32mIn[25], line 8\u001b[0m\n\u001b[1;32m      4\u001b[0m     \u001b[39melif\u001b[39;00m x\u001b[39m>\u001b[39m\u001b[39m=\u001b[39m\u001b[39m0\u001b[39m \u001b[39mand\u001b[39;00m y\u001b[39m<\u001b[39m\u001b[39m=\u001b[39m\u001b[39m0\u001b[39m \u001b[39mand\u001b[39;00m \u001b[39mabs\u001b[39m(x)\u001b[39m==\u001b[39m\u001b[39mabs\u001b[39m(y): \u001b[39mreturn\u001b[39;00m \u001b[39m0\u001b[39m\n\u001b[1;32m      7\u001b[0m \u001b[39mfrom\u001b[39;00m \u001b[39mfunctools\u001b[39;00m \u001b[39mimport\u001b[39;00m reduce\n\u001b[0;32m----> 8\u001b[0m reduce(coll_aster, lst)\n",
      "Cell \u001b[0;32mIn[25], line 2\u001b[0m, in \u001b[0;36mcoll_aster\u001b[0;34m(x, y)\u001b[0m\n\u001b[1;32m      1\u001b[0m \u001b[39mdef\u001b[39;00m \u001b[39mcoll_aster\u001b[39m(x,y):\n\u001b[0;32m----> 2\u001b[0m     \u001b[39mif\u001b[39;00m x\u001b[39m>\u001b[39;49m\u001b[39m=\u001b[39;49m\u001b[39m0\u001b[39;49m \u001b[39mand\u001b[39;00m y\u001b[39m<\u001b[39m\u001b[39m=\u001b[39m\u001b[39m0\u001b[39m \u001b[39mand\u001b[39;00m \u001b[39mabs\u001b[39m(x)\u001b[39m>\u001b[39m\u001b[39mabs\u001b[39m(y): \u001b[39mreturn\u001b[39;00m x\n\u001b[1;32m      3\u001b[0m     \u001b[39melif\u001b[39;00m x\u001b[39m>\u001b[39m\u001b[39m=\u001b[39m\u001b[39m0\u001b[39m \u001b[39mand\u001b[39;00m y\u001b[39m<\u001b[39m\u001b[39m=\u001b[39m\u001b[39m0\u001b[39m \u001b[39mand\u001b[39;00m \u001b[39mabs\u001b[39m(x)\u001b[39m<\u001b[39m \u001b[39mabs\u001b[39m(y): \u001b[39mreturn\u001b[39;00m y\n\u001b[1;32m      4\u001b[0m     \u001b[39melif\u001b[39;00m x\u001b[39m>\u001b[39m\u001b[39m=\u001b[39m\u001b[39m0\u001b[39m \u001b[39mand\u001b[39;00m y\u001b[39m<\u001b[39m\u001b[39m=\u001b[39m\u001b[39m0\u001b[39m \u001b[39mand\u001b[39;00m \u001b[39mabs\u001b[39m(x)\u001b[39m==\u001b[39m\u001b[39mabs\u001b[39m(y): \u001b[39mreturn\u001b[39;00m \u001b[39m0\u001b[39m\n",
      "\u001b[0;31mTypeError\u001b[0m: '>=' not supported between instances of 'NoneType' and 'int'"
     ]
    }
   ],
   "source": [
    "def coll_aster(x,y):\n",
    "    if x>=0 and y<=0 and abs(x)>abs(y): return x\n",
    "    elif x>=0 and y<=0 and abs(x)< abs(y): return y\n",
    "    elif x>=0 and y<=0 and abs(x)==abs(y): return 0\n",
    "    \n",
    "\n",
    "from functools import reduce\n",
    "reduce(coll_aster, lst)"
   ]
  },
  {
   "cell_type": "code",
   "execution_count": 26,
   "metadata": {},
   "outputs": [
    {
     "name": "stdout",
     "output_type": "stream",
     "text": [
      "5\n"
     ]
    }
   ],
   "source": [
    "from functools import reduce\n",
    "\n",
    "def func(x, y):\n",
    "    if y - x <= 0:\n",
    "        return x  # Возвращаем x, чтобы пропустить эту пару\n",
    "    return y - x\n",
    "\n",
    "numbers = [1, 4, 2, 6, 3, 8]\n",
    "result = reduce(func, numbers)\n",
    "print(result)"
   ]
  },
  {
   "cell_type": "code",
   "execution_count": null,
   "metadata": {},
   "outputs": [],
   "source": [
    "def asteroidCollision(asteroids):\n",
    "    if check_list(asteroids):\n",
    "        return asteroids\n",
    "    else:\n",
    "        lst_with_pairs = ((lst[i], lst[i+1]) for i in range(len(lst)-1))\n",
    "        "
   ]
  },
  {
   "cell_type": "markdown",
   "metadata": {},
   "source": [
    "### 13\n",
    "https://leetcode.com/problems/climbing-stairs/"
   ]
  },
  {
   "cell_type": "code",
   "execution_count": 11,
   "metadata": {},
   "outputs": [
    {
     "data": {
      "text/plain": [
       "165580141"
      ]
     },
     "execution_count": 11,
     "metadata": {},
     "output_type": "execute_result"
    }
   ],
   "source": [
    "def climbStairs(n):\n",
    "    if n==1: return 1\n",
    "    if n==2: return 2\n",
    "    from functools import lru_cache\n",
    "    f1,f2 = 1,2\n",
    "    for i in range(3,n+1):\n",
    "        f1,f2 = f2, f1+f2\n",
    "\n",
    "    return f2\n",
    "    \n",
    "\n",
    "climbStairs(40)"
   ]
  },
  {
   "cell_type": "code",
   "execution_count": 10,
   "metadata": {},
   "outputs": [
    {
     "data": {
      "text/plain": [
       "165580141"
      ]
     },
     "execution_count": 10,
     "metadata": {},
     "output_type": "execute_result"
    }
   ],
   "source": [
    "def climbStairs(n):\n",
    "    cache = {1: 1, 2: 2}            # создаем кеш, куда будем складывать уже вычисленные число вариантов\n",
    "    def count_rec(n):\n",
    "        result = cache.get(n)       # если искомое число уже в кэше, то функция сразу вернет его\n",
    "        if result is None:          # а если get словаря вернет None (по умолчанию), то запускается расчет\n",
    "            result = count_rec(n - 2) + count_rec(n - 1)\n",
    "            cache[n] = result       # и в словарь кэша добавляется новый элемент\n",
    "        return result\n",
    "    return count_rec(n)\n",
    "\n",
    "climbStairs(40)"
   ]
  },
  {
   "cell_type": "markdown",
   "metadata": {},
   "source": [
    "### 14\n",
    "https://leetcode.com/problems/remove-element/"
   ]
  },
  {
   "cell_type": "code",
   "execution_count": 20,
   "metadata": {},
   "outputs": [
    {
     "name": "stdout",
     "output_type": "stream",
     "text": [
      "5\n",
      "[0, 1, 3, 0, 4]\n"
     ]
    }
   ],
   "source": [
    "def removeElement(nums, val):\n",
    "    for num in nums[:]:\n",
    "        if num== val:\n",
    "            nums.remove(num)\n",
    "    return len(nums)\n",
    "\n",
    "nums = [3,2,2,3]\n",
    "val = 3\n",
    "\n",
    "nums =[0,1,2,2,3,0,4,2]\n",
    "val =2\n",
    "print(removeElement(nums, val))\n",
    "print(nums)"
   ]
  },
  {
   "cell_type": "code",
   "execution_count": 21,
   "metadata": {},
   "outputs": [
    {
     "data": {
      "text/plain": [
       "3"
      ]
     },
     "execution_count": 21,
     "metadata": {},
     "output_type": "execute_result"
    }
   ],
   "source": [
    "def removeElement(nums, val):\n",
    "    for _ in range(nums.count(val)):\n",
    "        nums.remove(val)\n",
    "    return len(nums)"
   ]
  },
  {
   "cell_type": "markdown",
   "metadata": {},
   "source": [
    "### 15\n",
    "https://leetcode.com/problems/longest-palindromic-substring/"
   ]
  },
  {
   "cell_type": "code",
   "execution_count": null,
   "metadata": {},
   "outputs": [],
   "source": [
    "def longestPalindrome(s):\n",
    "    "
   ]
  },
  {
   "cell_type": "code",
   "execution_count": 26,
   "metadata": {},
   "outputs": [
    {
     "data": {
      "text/plain": [
       "<re.Match object; span=(0, 5), match='babab'>"
      ]
     },
     "execution_count": 26,
     "metadata": {},
     "output_type": "execute_result"
    }
   ],
   "source": [
    "s= \"bababd\"\n",
    "import re\n",
    "re.search(r\"(.).*\\1\", s)"
   ]
  },
  {
   "cell_type": "code",
   "execution_count": null,
   "metadata": {},
   "outputs": [],
   "source": []
  }
 ],
 "metadata": {
  "kernelspec": {
   "display_name": "Python 3",
   "language": "python",
   "name": "python3"
  },
  "language_info": {
   "codemirror_mode": {
    "name": "ipython",
    "version": 3
   },
   "file_extension": ".py",
   "mimetype": "text/x-python",
   "name": "python",
   "nbconvert_exporter": "python",
   "pygments_lexer": "ipython3",
   "version": "3.10.7"
  },
  "orig_nbformat": 4
 },
 "nbformat": 4,
 "nbformat_minor": 2
}
