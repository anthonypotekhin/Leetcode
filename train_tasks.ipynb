{
 "cells": [
  {
   "attachments": {},
   "cell_type": "markdown",
   "metadata": {},
   "source": [
    "### Задачи на Leetcode\n"
   ]
  },
  {
   "attachments": {},
   "cell_type": "markdown",
   "metadata": {},
   "source": [
    "### 1\n",
    "https://leetcode.com/problems/two-sum/\n",
    "\n",
    "Учитывая массив целых чисел nums и целое число target, верните индексы двух чисел так, чтобы они составляли в суммеtarget .\n",
    "\n",
    "Вы можете предположить, что каждый вход будет иметь ровно одно решение , и вы не можете использовать один и тот же элемент дважды.\n",
    "\n",
    "Вы можете вернуть ответ в любом порядке.\n",
    "\n",
    " \n",
    "\n",
    "Пример 1:\n",
    "\n",
    "Ввод: nums = [2,7,11,15], target = 9\n",
    " Вывод: [0,1]\n",
    " Объяснение: Поскольку nums[0] + nums[1] == 9, мы возвращаем [0, 1]."
   ]
  },
  {
   "cell_type": "code",
   "execution_count": 16,
   "metadata": {},
   "outputs": [],
   "source": [
    "def twoSum(nums, target):\n",
    "    for i in range(len(nums)-1):\n",
    "            for j in range(i+1,len(nums)):\n",
    "                if nums[i] + nums[j] == target:\n",
    "                    return [i,j]\n"
   ]
  },
  {
   "cell_type": "code",
   "execution_count": 17,
   "metadata": {},
   "outputs": [
    {
     "data": {
      "text/plain": [
       "[0, 1]"
      ]
     },
     "execution_count": 17,
     "metadata": {},
     "output_type": "execute_result"
    }
   ],
   "source": [
    "twoSum(nums = [2,7,11,15], target = 9)"
   ]
  },
  {
   "cell_type": "code",
   "execution_count": 18,
   "metadata": {},
   "outputs": [
    {
     "data": {
      "text/plain": [
       "[1, 2]"
      ]
     },
     "execution_count": 18,
     "metadata": {},
     "output_type": "execute_result"
    }
   ],
   "source": [
    "twoSum(nums=[3,2,4], target = 6)"
   ]
  },
  {
   "attachments": {},
   "cell_type": "markdown",
   "metadata": {},
   "source": [
    "### 2\n",
    "https://leetcode.com/problems/divide-two-integers/\n",
    "\n",
    "Даны два целых числа dividendи divisor, разделите два целых числа без использования умножения, деления и оператора mod.\n",
    "\n",
    "Целочисленное деление должно усекаться до нуля, что означает потерю дробной части. Например, 8.345будет усечено до 8, и -2.7335будет усечено до -2.\n",
    "\n",
    "Верните частное после деления dividendна .divisor\n",
    "\n",
    "Примечание. Предположим, что мы имеем дело со средой, которая может хранить целые числа только в диапазоне 32-битных целых чисел со знаком: - 2**31: в этом случае вернуть (2**31 - 1)"
   ]
  },
  {
   "cell_type": "code",
   "execution_count": 2,
   "metadata": {},
   "outputs": [],
   "source": [
    "def divide(self, dividend, divisor):\n",
    "\n",
    "    sign = (1,-1)[(dividend< 0 and divisor>0) or (dividend>0 and divisor<0)]\n",
    "    result = abs(dividend)//abs(divisor) * sign\n",
    "    return (result, result-1)[result==2**31]"
   ]
  },
  {
   "attachments": {},
   "cell_type": "markdown",
   "metadata": {},
   "source": [
    "### 3\n",
    "https://leetcode.com/problems/median-of-two-sorted-arrays/description/\n",
    "\n",
    "Given two sorted arrays nums1 and nums2 of size m and n respectively, return the median of the two sorted arrays.\n",
    "\n",
    "The overall run time complexity should be O(log (m+n)).\n",
    "\n"
   ]
  },
  {
   "cell_type": "code",
   "execution_count": 3,
   "metadata": {},
   "outputs": [],
   "source": [
    "def findMedianSortedArrays(self, nums1, nums2):\n",
    "        import numpy as np\n",
    "        return np.median(sorted(nums1+nums2))"
   ]
  },
  {
   "attachments": {},
   "cell_type": "markdown",
   "metadata": {},
   "source": [
    "### 4\n",
    "https://leetcode.com/problems/reverse-integer/submissions/926493423/\n",
    "\n",
    "Given a signed 32-bit integer x, return x with its digits reversed. If reversing x causes the value to go outside the signed 32-bit integer range [-231, 231 - 1], then return 0.\n",
    "\n",
    "Assume the environment does not allow you to store 64-bit integers (signed or unsigned).\n"
   ]
  },
  {
   "cell_type": "code",
   "execution_count": 4,
   "metadata": {},
   "outputs": [],
   "source": [
    "def reverse(self, x):\n",
    "        sign = (1,-1)[x<0]\n",
    "        res = int(str(abs(x))[::-1]) * sign\n",
    "        return (0, res) [-2**31<=res <= 2**31-1]"
   ]
  },
  {
   "attachments": {},
   "cell_type": "markdown",
   "metadata": {},
   "source": [
    "### 5\n",
    "https://leetcode.com/problems/add-two-numbers/\n",
    "\n",
    "You are given two non-empty linked lists representing two non-negative integers. The digits are stored in reverse order, and each of their nodes contains a single digit. Add the two numbers and return the sum as a linked list.\n",
    "\n",
    "You may assume the two numbers do not contain any leading zero, except the number 0 itself."
   ]
  },
  {
   "cell_type": "markdown",
   "metadata": {},
   "source": [
    "### 6\n",
    "https://leetcode.com/problems/majority-element/"
   ]
  },
  {
   "cell_type": "code",
   "execution_count": 3,
   "metadata": {},
   "outputs": [
    {
     "name": "stdout",
     "output_type": "stream",
     "text": [
      "3\n"
     ]
    }
   ],
   "source": [
    "\n",
    "def majorityElement(nums):\n",
    "    from collections import Counter\n",
    "    count_dic = Counter(nums)\n",
    "    return max(count_dic.items(), key=lambda x: x[1])[0]\n",
    "\n",
    "print(majorityElement([8,8,1,1,1,2,2,3,3,3,3,3,4]))"
   ]
  },
  {
   "cell_type": "markdown",
   "metadata": {},
   "source": [
    "### 7\n",
    "https://leetcode.com/problems/merge-sorted-array/"
   ]
  },
  {
   "cell_type": "code",
   "execution_count": 11,
   "metadata": {},
   "outputs": [
    {
     "name": "stdout",
     "output_type": "stream",
     "text": [
      "[1, 2, 2, 3, 5, 6]\n"
     ]
    }
   ],
   "source": [
    "def merge(nums1, m, nums2, n):  # len(nums1) = m+n, len(nums2) = n\n",
    "    for i in range(n):\n",
    "        nums1.remove(0)\n",
    "    nums1.extend(nums2)\n",
    "    nums1.sort()\n",
    "\n",
    "nums1 = [1,2,3,0,0,0]\n",
    "nums2 = [2,5,6]\n",
    "n=3\n",
    "m=6\n",
    "\n",
    "merge(nums1, m, nums2, n)\n",
    "print(nums1)"
   ]
  },
  {
   "cell_type": "markdown",
   "metadata": {},
   "source": [
    "### 8"
   ]
  },
  {
   "cell_type": "code",
   "execution_count": 7,
   "metadata": {},
   "outputs": [
    {
     "name": "stdout",
     "output_type": "stream",
     "text": [
      "[1, 2, 3, 4, '_', '_']\n",
      "4\n"
     ]
    }
   ],
   "source": [
    "def removeDuplicates(nums):\n",
    "    k =0\n",
    "    container = []\n",
    "    for i in range (len(nums)):\n",
    "        if nums[i] not in container:\n",
    "            container.append(nums[i])\n",
    "            k+=1\n",
    "        else:\n",
    "            nums[i] = '_'\n",
    "    return k\n",
    "\n",
    "nums= lst = [1,2,3,4,1,3]\n",
    "k= removeDuplicates(nums)\n",
    "\n",
    "print(nums)\n",
    "print(k)"
   ]
  },
  {
   "cell_type": "code",
   "execution_count": 13,
   "metadata": {},
   "outputs": [
    {
     "name": "stdout",
     "output_type": "stream",
     "text": [
      "[1, 2, 3, 4]\n",
      "4\n"
     ]
    }
   ],
   "source": [
    "def removeDuplicates(nums):\n",
    "    k =0\n",
    "    container = []\n",
    "    for num in nums[:]:\n",
    "        if num not in container:\n",
    "            container.append(num)\n",
    "        else:\n",
    "            nums.remove(num)\n",
    "    nums.sort()\n",
    "    return len(nums)\n",
    "\n",
    "nums= lst = [1,2,3,4,1,3]\n",
    "k= removeDuplicates(nums)\n",
    "\n",
    "print(nums)\n",
    "print(k)"
   ]
  },
  {
   "cell_type": "code",
   "execution_count": 5,
   "metadata": {},
   "outputs": [
    {
     "data": {
      "text/plain": [
       "[1, 2, 3, 4, 3]"
      ]
     },
     "execution_count": 5,
     "metadata": {},
     "output_type": "execute_result"
    }
   ],
   "source": [
    "lst = [1,2,3,4,1,3]\n",
    "\n",
    "#lst.remove(1)\n",
    "del lst[4]\n",
    "lst"
   ]
  },
  {
   "cell_type": "markdown",
   "metadata": {},
   "source": [
    "### 9\n",
    "https://leetcode.com/problems/longest-common-prefix/submissions/"
   ]
  },
  {
   "cell_type": "code",
   "execution_count": 45,
   "metadata": {},
   "outputs": [
    {
     "data": {
      "text/plain": [
       "'fl'"
      ]
     },
     "execution_count": 45,
     "metadata": {},
     "output_type": "execute_result"
    }
   ],
   "source": [
    "def longestCommonPrefix(strs):\n",
    "    min_len = min(map(len, strs))\n",
    "    if not min_len:     # проверяем, что в списке нет пустых строк\n",
    "        return ''\n",
    "    else:\n",
    "        ind =0\n",
    "        for i in range(min_len):\n",
    "            let_current_pos = map(lambda x: x[i], strs)     # здесь назначаем положение буквы 1,2,3... до последней в самом коротком слове\n",
    "            if all(letter == strs[0][i] for letter in let_current_pos):\n",
    "                # проверка, что текущая буква каждого слова одинакова\n",
    "                ind+=1\n",
    "                continue\n",
    "            else:\n",
    "                return strs[0][:i]\n",
    "        return strs[0][:ind]\n",
    "\n",
    "            \n",
    "    \n",
    "\n",
    "strs = [\"flower\",\"flow\",\"flight\"]\n",
    "#strs = [\"dog\",\"racecar\",\"car\"]\n",
    "#strs = [\"flower\",\"flower\",\"flower\",\"flower\"]\n",
    "\n",
    "longestCommonPrefix(strs)"
   ]
  },
  {
   "cell_type": "markdown",
   "metadata": {},
   "source": [
    "### 10\n",
    "https://leetcode.com/problems/search-in-rotated-sorted-array/"
   ]
  },
  {
   "cell_type": "code",
   "execution_count": 49,
   "metadata": {},
   "outputs": [
    {
     "data": {
      "text/plain": [
       "-1"
      ]
     },
     "execution_count": 49,
     "metadata": {},
     "output_type": "execute_result"
    }
   ],
   "source": [
    "def search(nums, target):\n",
    "    try: \n",
    "        res = nums.index(target)\n",
    "    except ValueError:\n",
    "        res =-1\n",
    "    return res\n",
    "\n",
    "nums = [4,5,6,7,0,1,2]\n",
    "target = 3\n",
    "\n",
    "search(nums, target)"
   ]
  },
  {
   "attachments": {
    "image.png": {
     "image/png": "[encoded data removed]"
    }
   },
   "cell_type": "markdown",
   "metadata": {},
   "source": [
    "![image.png](attachment:image.png)"
   ]
  },
  {
   "cell_type": "markdown",
   "metadata": {},
   "source": [
    "### 11\n",
    "https://leetcode.com/problems/word-break/"
   ]
  },
  {
   "cell_type": "code",
   "execution_count": 100,
   "metadata": {},
   "outputs": [
    {
     "name": "stdout",
     "output_type": "stream",
     "text": [
      "abababab\n",
      "\n"
     ]
    },
    {
     "data": {
      "text/plain": [
       "True"
      ]
     },
     "execution_count": 100,
     "metadata": {},
     "output_type": "execute_result"
    }
   ],
   "source": [
    "# это недоработанное решение, ошибка на тестах с одинаковыми подряд буквами в словах и в строке\n",
    "\n",
    "def wordBreak(s, wordDict):\n",
    "    import re\n",
    "    for word in sorted(wordDict, key=len):           # для каждого слова в словаре\n",
    "        rex = fr\"{word}\"\n",
    "        s= re.sub(rex, '', s)       # меняем все совпадения на пустую строку(удаляем все совпадения)\n",
    "        print(s)\n",
    "        if len(s)==0:\n",
    "            return True\n",
    "        else:\n",
    "            continue\n",
    "    return len(s)==0                # если удалилось все - значит из набора слов можно составить заданную строку\n",
    "                                    # но если осталось хоть что-то - значит составить заданную строку нельзя\n",
    "\n",
    "#1 test - True\n",
    "s = \"applepenapple\" \n",
    "wordDict = [\"apple\",\"pen\"]\n",
    "\n",
    "\n",
    "#2 test - False\n",
    "s = \"catsandog\"\n",
    "wordDict = [\"cats\",\"dog\",\"sand\",\"and\",\"cat\"]\n",
    "\n",
    "#3 test - True\n",
    "s =\"aaaaaaa\"\n",
    "wordDict =[\"aaaa\",\"aaa\"]    \n",
    "\n",
    "#4 test True\n",
    "s= 'cars'\n",
    "wordDict =[\"car\",\"ca\",\"rs\"]\n",
    "\n",
    "s= 'aaaaababababaaaa'\n",
    "wordDict =[\"aaa\",\"aa\",\"ab\"]\n",
    "\n",
    "wordBreak(s, wordDict)"
   ]
  },
  {
   "cell_type": "markdown",
   "metadata": {},
   "source": [
    "В этом коде dp[i] представляет собой булевое значение, указывающее, может ли подстрока s[0:i] быть разбита на слова из словаря wordDict. Внешний цикл проходит по символам строки, а внутренний цикл проходит по словам в словаре. Если слово из словаря соответствует подстроке и предыдущая часть строки тоже может быть разбита на слова, то dp[i] устанавливается в True.\n",
    "\n",
    "В конце dp[n] будет содержать информацию о том, можно ли разбить всю строку s на слова из словаря.\n",
    "\n"
   ]
  },
  {
   "cell_type": "code",
   "execution_count": 107,
   "metadata": {},
   "outputs": [
    {
     "name": "stdout",
     "output_type": "stream",
     "text": [
      "True\n"
     ]
    }
   ],
   "source": [
    "# рабочее решение\n",
    "\n",
    "def wordBreak(s, wordDict):\n",
    "    n = len(s)\n",
    "    dp = [False] * (n + 1)\n",
    "    dp[0] = True\n",
    "\n",
    "    # условие для случая, когда строка меньше, чем любой из элементов в списке\n",
    "    if n < min(map(len,wordDict)):\n",
    "            return False\n",
    "\n",
    "    for i in range(1, n + 1):\n",
    "        for word in wordDict:\n",
    "            if dp[i - len(word)] and s[i - len(word):i] == word:\n",
    "                dp[i] = True\n",
    "                break\n",
    "\n",
    "    return dp[n]\n",
    "\n",
    "# Example usage\n",
    "s = \"leetcode\"\n",
    "wordDict = [\"leet\", \"code\"]\n",
    "\n",
    "#1 test - True\n",
    "s = \"applepenapple\" \n",
    "wordDict = [\"apple\",\"pen\"]\n",
    "\n",
    "#2 test - False\n",
    "s = \"catsandog\"\n",
    "wordDict = [\"cats\",\"dog\",\"sand\",\"and\",\"cat\"]\n",
    "\n",
    "#3 test - True\n",
    "s =\"aaaaaaa\"\n",
    "wordDict =[\"aaaa\",\"aaa\"]    \n",
    "\n",
    "\n",
    "#4 test True\n",
    "s= 'cars'\n",
    "wordDict =[\"car\",\"ca\",\"rs\"]\n",
    "\n",
    "\n",
    "\n",
    "s= 'aaaababababaaa'\n",
    "wordDict =[\"aaa\",\"aa\",\"ab\"]\n",
    "\n",
    "\n",
    "\n",
    "\n",
    "print(wordBreak(s, wordDict))"
   ]
  },
  {
   "cell_type": "code",
   "execution_count": 57,
   "metadata": {},
   "outputs": [
    {
     "data": {
      "text/plain": [
       "'pen'"
      ]
     },
     "execution_count": 57,
     "metadata": {},
     "output_type": "execute_result"
    }
   ],
   "source": [
    "s = \"applepenapple\" \n",
    "wordDict = [\"apple\",\"pen\"]\n",
    "word = 'apple'\n",
    "\n",
    "rex = fr\"{word}\"\n",
    "import re\n",
    "\n",
    "re.sub(rex, '', s)"
   ]
  },
  {
   "cell_type": "code",
   "execution_count": 56,
   "metadata": {},
   "outputs": [
    {
     "data": {
      "text/plain": [
       "5"
      ]
     },
     "execution_count": 56,
     "metadata": {},
     "output_type": "execute_result"
    }
   ],
   "source": [
    "'applepenapple'.find('pen')"
   ]
  },
  {
   "cell_type": "code",
   "execution_count": 92,
   "metadata": {},
   "outputs": [
    {
     "data": {
      "text/plain": [
       "['', 'pen', '']"
      ]
     },
     "execution_count": 92,
     "metadata": {},
     "output_type": "execute_result"
    }
   ],
   "source": [
    "'applepenapple'.split('apple')"
   ]
  },
  {
   "cell_type": "code",
   "execution_count": 95,
   "metadata": {},
   "outputs": [
    {
     "data": {
      "text/plain": [
       "['', 'aaa']"
      ]
     },
     "execution_count": 95,
     "metadata": {},
     "output_type": "execute_result"
    }
   ],
   "source": [
    "'aaaaaaa'.split('aaaa')"
   ]
  },
  {
   "cell_type": "code",
   "execution_count": null,
   "metadata": {},
   "outputs": [],
   "source": []
  }
 ],
 "metadata": {
  "kernelspec": {
   "display_name": "Python 3",
   "language": "python",
   "name": "python3"
  },
  "language_info": {
   "codemirror_mode": {
    "name": "ipython",
    "version": 3
   },
   "file_extension": ".py",
   "mimetype": "text/x-python",
   "name": "python",
   "nbconvert_exporter": "python",
   "pygments_lexer": "ipython3",
   "version": "3.11.3"
  },
  "orig_nbformat": 4
 },
 "nbformat": 4,
 "nbformat_minor": 2
}
